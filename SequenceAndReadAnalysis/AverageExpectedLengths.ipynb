{
 "cells": [
  {
   "cell_type": "code",
   "execution_count": 3,
   "id": "47195c73",
   "metadata": {},
   "outputs": [],
   "source": [
    "import numpy as np\n",
    "import argparse\n",
    "from matplotlib import pyplot as plt"
   ]
  },
  {
   "cell_type": "code",
   "execution_count": 4,
   "id": "6871fed6",
   "metadata": {},
   "outputs": [],
   "source": [
    "def generateMatrices(s, t, matchScore, mismatchScore, indelScore):\n",
    "\n",
    "    # initialize arrays with s+1 rows and t+1 cols\n",
    "    arrowMatrix = [['O'] * (len(t) + 1) for i in range(len(s) + 1)]\n",
    "    numMatrix = [[0] * (len(t) + 1) for i in range(len(s) + 1)]\n",
    "\n",
    "    # stop = stop\n",
    "    # diag = diagonal-arrow\n",
    "    # up = up-arrow\n",
    "    # left = left-arrow\n",
    "\n",
    "    # initialize corner:\n",
    "    arrowMatrix[0][0] = 'stop'\n",
    "    numMatrix[0][0] = 0\n",
    "\n",
    "    # initialize first row\n",
    "    for num in range(len(t)):\n",
    "        i_x = num + 1\n",
    "        numMatrix[0][i_x] = 0\n",
    "        arrowMatrix[0][i_x] = 'stop'\n",
    "\n",
    "    # initialize first col\n",
    "    for num in range(len(s)):\n",
    "        i_x = num + 1\n",
    "        numMatrix[i_x][0] = 0\n",
    "        arrowMatrix[i_x][0] = 'stop'\n",
    "\n",
    "    # populate arrays\n",
    "    for x in range(len(numMatrix) - 1):\n",
    "        for y in range(len(numMatrix[0]) - 1):\n",
    "            i_x = x + 1\n",
    "            i_y = y + 1\n",
    "\n",
    "            #find diagonal score\n",
    "            match = numMatrix[x][y]\n",
    "            if (s[x] == t[y]):\n",
    "                match = match + matchScore\n",
    "            else:\n",
    "                match = match + mismatchScore\n",
    "\n",
    "            #find up_score\n",
    "            up_score = numMatrix[x][i_y] + indelScore\n",
    "\n",
    "            #find left_score\n",
    "            left_score = numMatrix[i_x][y] + indelScore\n",
    "\n",
    "            #assign max number to the numMatrix\n",
    "            numMatrix[i_x][i_y] = max(match, up_score, left_score)\n",
    "\n",
    "            #assign arrow to arrowMatrix\n",
    "            if (numMatrix[i_x][i_y] < 0):\n",
    "                numMatrix[i_x][i_y] = 0\n",
    "                arrowMatrix[i_x][i_y] = 'stop'\n",
    "            elif (numMatrix[i_x][i_y] == match):\n",
    "                arrowMatrix[i_x][i_y] = 'diag'\n",
    "            elif (numMatrix[i_x][i_y] == left_score):\n",
    "                arrowMatrix[i_x][i_y] = 'left'\n",
    "            elif (numMatrix[i_x][i_y] == up_score):\n",
    "                arrowMatrix[i_x][i_y] = 'up'\n",
    "            else:\n",
    "                print(\"oh shit\") # to the grader: This will stay.\n",
    "                \n",
    "    \n",
    "    backtrack_values = [numMatrix, arrowMatrix]\n",
    "    return backtrack_values"
   ]
  },
  {
   "cell_type": "code",
   "execution_count": 5,
   "id": "9f71ddf5",
   "metadata": {},
   "outputs": [],
   "source": [
    "# THIS CODE WAS BORROWED FROM DISCUSSION 2 COLAB.RESEARCH NOTEBOOK - EDIT DISTANCE ALIGNMENT\n",
    "\n",
    "def reconstruct_edit_dist(s,t, backtrack_values):\n",
    "\n",
    "    #initialize optimal alignment strings of s and t,  s' and t', respectively\n",
    "    s_align, t_align = '',''\n",
    "    \n",
    "    numMatrix = backtrack_values[0]\n",
    "    arrowMatrix = backtrack_values[1]\n",
    "    \n",
    "    maxVal = 0;\n",
    "    i = 0\n",
    "    j = 0\n",
    "    \n",
    "    \n",
    "    for y in range (len(numMatrix)):\n",
    "        for x in range (len(numMatrix[0])):\n",
    "            if(numMatrix[y][x] > maxVal):\n",
    "                maxVal = numMatrix[y][x]\n",
    "                i = y\n",
    "                j = x\n",
    "\n",
    "    # up, left, or diag\n",
    "    while i*j!=0:\n",
    "        arrow = arrowMatrix[i][j]\n",
    "        if arrow == 'diag':\n",
    "            s_align = s[i-1]+s_align\n",
    "            t_align = t[j-1]+t_align\n",
    "            i-=1\n",
    "            j-=1\n",
    "    \n",
    "        elif arrow == 'up':\n",
    "            s_align = s[i-1]+s_align\n",
    "            t_align = '-'+t_align\n",
    "            i-=1\n",
    "    \n",
    "        elif arrow =='left':\n",
    "            s_align = '-'+s_align\n",
    "            t_align = t[j-1]+t_align\n",
    "            j-=1\n",
    "\n",
    "        elif arrow == 'stop':\n",
    "            break\n",
    "\n",
    "        else:\n",
    "            print(\"oh potato\")\n",
    "\n",
    "    return (s_align, t_align)"
   ]
  },
  {
   "cell_type": "code",
   "execution_count": 6,
   "id": "51042fda",
   "metadata": {},
   "outputs": [],
   "source": [
    "def generateRandomSeq(length):\n",
    "    nums = np.random.randint(0, 4, length)\n",
    "    seq = ''\n",
    "    \n",
    "    count1 = 0\n",
    "    count2 = 0\n",
    "    count3 = 0\n",
    "    count4 = 0\n",
    "    \n",
    "    \n",
    "    for num in nums:\n",
    "        if(num == 0):\n",
    "            seq += 'A'\n",
    "            count1 += 1\n",
    "        elif(num == 1):\n",
    "            seq += 'C'\n",
    "            count2 += 1\n",
    "        elif(num == 2):\n",
    "            seq += 'G'\n",
    "            count3 += 1\n",
    "        elif(num == 3):\n",
    "            seq += 'T'\n",
    "            count4 += 1\n",
    "            \n",
    "    return seq"
   ]
  },
  {
   "cell_type": "code",
   "execution_count": 10,
   "id": "c51fe941",
   "metadata": {},
   "outputs": [],
   "source": [
    "def q2OutputPlot():\n",
    "    \n",
    "    \n",
    "    x = []\n",
    "    y = []\n",
    "    for i in range(19):\n",
    "        alignmentLengths = []\n",
    "        for j in range(100):\n",
    "            s = generateRandomSeq(50*(i+1))\n",
    "            t = generateRandomSeq(50*(i+1))\n",
    "            (str1, str2) = (str1, str2) = reconstruct_edit_dist(s,t, generateMatrices(s, t, 1, -30, -20))\n",
    "            alignmentLengths.append(len(str1))\n",
    "        expectedAlignment = np.average(alignmentLengths)\n",
    "        x.append(50*(i+1))\n",
    "        y.append(expectedAlignment)\n",
    "        \n",
    "        \n",
    "    plt.plot(x, y)"
   ]
  },
  {
   "cell_type": "code",
   "execution_count": 11,
   "id": "3f510399",
   "metadata": {},
   "outputs": [
    {
     "data": {
      "image/png": "[encoded data removed]",
      "text/plain": [
       "<Figure size 432x288 with 1 Axes>"
      ]
     },
     "metadata": {
      "needs_background": "light"
     },
     "output_type": "display_data"
    }
   ],
   "source": [
    "q2OutputPlot()"
   ]
  },
  {
   "cell_type": "code",
   "execution_count": 9,
   "id": "6f497adb",
   "metadata": {},
   "outputs": [
    {
     "data": {
      "text/plain": [
       "[<matplotlib.lines.Line2D at 0x7f52a04df5c0>]"
      ]
     },
     "execution_count": 9,
     "metadata": {},
     "output_type": "execute_result"
    },
    {
     "data": {
      "image/png": "[encoded data removed]",
      "text/plain": [
       "<Figure size 432x288 with 1 Axes>"
      ]
     },
     "metadata": {
      "needs_background": "light"
     },
     "output_type": "display_data"
    }
   ],
   "source": [
    "x = [0, 3, 7]\n",
    "y = [1, -2, 3]\n",
    "plt.plot(x,y)"
   ]
  },
  {
   "cell_type": "code",
   "execution_count": 16,
   "id": "4e1620ac",
   "metadata": {},
   "outputs": [],
   "source": [
    "def q3part_a_output():\n",
    "    P = [-30, -20, -10, -1, -0.5, -0.33, -0.25, 0]\n",
    "    x = []\n",
    "    y = []\n",
    "    \n",
    "    for num in P:\n",
    "        alignmentLengths = []\n",
    "        for j in range(100):\n",
    "            s = generateRandomSeq(1000)\n",
    "            t = generateRandomSeq(1000)\n",
    "            (str1, str2) = (str1, str2) = reconstruct_edit_dist(s,t, generateMatrices(s, t, 1, num, num))\n",
    "            alignmentLengths.append(len(str1))\n",
    "        expectedAlignment = np.average(alignmentLengths)\n",
    "        x.append(-num)\n",
    "        y.append(expectedAlignment)\n",
    "    \n",
    "    \n",
    "    plt.plot(x, y)"
   ]
  },
  {
   "cell_type": "code",
   "execution_count": 17,
   "id": "0964e4ba",
   "metadata": {},
   "outputs": [
    {
     "data": {
      "image/png": "[encoded data removed]",
      "text/plain": [
       "<Figure size 432x288 with 1 Axes>"
      ]
     },
     "metadata": {
      "needs_background": "light"
     },
     "output_type": "display_data"
    }
   ],
   "source": [
    "q3part_a_output()"
   ]
  },
  {
   "cell_type": "code",
   "execution_count": 18,
   "id": "d70d4346",
   "metadata": {},
   "outputs": [],
   "source": [
    "def q3part_b_output():\n",
    "    P = [-10, -7, -5, -4, -3, -2, -1, 0]\n",
    "    x = []\n",
    "    y = []\n",
    "    \n",
    "    for num in P:\n",
    "        alignmentLengths = []\n",
    "        for j in range(100):\n",
    "            s = generateRandomSeq(1000)\n",
    "            t = generateRandomSeq(1000)\n",
    "            (str1, str2) = (str1, str2) = reconstruct_edit_dist(s,t, generateMatrices(s, t, 1, -10, num))\n",
    "            alignmentLengths.append(len(str1))\n",
    "        expectedAlignment = np.average(alignmentLengths)\n",
    "        x.append(-num)\n",
    "        y.append(expectedAlignment)\n",
    "    \n",
    "    \n",
    "    plt.plot(x, y)"
   ]
  },
  {
   "cell_type": "code",
   "execution_count": 19,
   "id": "2063f408",
   "metadata": {},
   "outputs": [
    {
     "data": {
      "image/png": "[encoded data removed]",
      "text/plain": [
       "<Figure size 432x288 with 1 Axes>"
      ]
     },
     "metadata": {
      "needs_background": "light"
     },
     "output_type": "display_data"
    }
   ],
   "source": [
    "q3part_b_output()"
   ]
  },
  {
   "cell_type": "code",
   "execution_count": 20,
   "id": "f43f44d8",
   "metadata": {},
   "outputs": [],
   "source": [
    "def q3part_b2_output():\n",
    "    P = [-10, -7, -5, -4, -3, -2, -1, 0]\n",
    "    x = []\n",
    "    y = []\n",
    "    \n",
    "    for num in P:\n",
    "        alignmentLengths = []\n",
    "        for j in range(100):\n",
    "            s = generateRandomSeq(1000)\n",
    "            t = generateRandomSeq(1000)\n",
    "            (str1, str2) = (str1, str2) = reconstruct_edit_dist(s,t, generateMatrices(s, t, 1, num, -10))\n",
    "            alignmentLengths.append(len(str1))\n",
    "        expectedAlignment = np.average(alignmentLengths)\n",
    "        x.append(-num)\n",
    "        y.append(expectedAlignment)\n",
    "    \n",
    "    \n",
    "    plt.plot(x, y)"
   ]
  },
  {
   "cell_type": "code",
   "execution_count": 21,
   "id": "837aff97",
   "metadata": {},
   "outputs": [
    {
     "data": {
      "image/png": "[encoded data removed]",
      "text/plain": [
       "<Figure size 432x288 with 1 Axes>"
      ]
     },
     "metadata": {
      "needs_background": "light"
     },
     "output_type": "display_data"
    }
   ],
   "source": [
    "q3part_b2_output()"
   ]
  },
  {
   "cell_type": "code",
   "execution_count": 25,
   "id": "6bd671ba",
   "metadata": {},
   "outputs": [],
   "source": [
    "def q3part_b2_output():\n",
    "    P = [30, 20, 10, 7, 5, 4, 3, 2, 1, 0]\n",
    "    x = []\n",
    "    y = []\n",
    "    \n",
    "    for num in P:\n",
    "        alignmentLengths = []\n",
    "        for j in range(50):\n",
    "            s = generateRandomSeq(1000)\n",
    "            t = generateRandomSeq(1000)\n",
    "            (str1, str2) = (str1, str2) = reconstruct_edit_dist(s,t, generateMatrices(s, t, num, -10, -10))\n",
    "            alignmentLengths.append(len(str1))\n",
    "        expectedAlignment = np.average(alignmentLengths)\n",
    "        x.append(num)\n",
    "        y.append(expectedAlignment)\n",
    "    \n",
    "    \n",
    "    plt.plot(x, y)"
   ]
  },
  {
   "cell_type": "code",
   "execution_count": 26,
   "id": "9877e2dc",
   "metadata": {},
   "outputs": [
    {
     "data": {
      "image/png": "[encoded data removed]",
      "text/plain": [
       "<Figure size 432x288 with 1 Axes>"
      ]
     },
     "metadata": {
      "needs_background": "light"
     },
     "output_type": "display_data"
    }
   ],
   "source": [
    "q3part_b2_output()"
   ]
  },
  {
   "cell_type": "markdown",
   "id": "b7e5356e",
   "metadata": {},
   "source": [
    "# README\n",
    "## Assignment 2\n",
    "\n",
    "### Purpose: the programs in this project allow the user to take any FASTA formatted sequences and perform a local alignment on them. In addition, several other programs exist to perform further analysis and experimentation.\n",
    "\n",
    "\n",
    "\n",
    "\n",
    "\n",
    "### Required Packages\n",
    "###### numpy\n",
    "install using 'pip3 install numpy' if using python3\n",
    "\n",
    "###### argparse\n",
    "install using 'pip3 install argparse' if using python3\n",
    "\n",
    "\n",
    "\n",
    "\n",
    "\n",
    "\n",
    "### locAL.py\n",
    "###### Purpose:\n",
    "Takes a file with pairs of strings delineated by newlines, and 3 numeral parameters to determine the best local alignment of the two sequences. Outputs the highest score and the length of the longest alignment. Optionally outputs the actual sequence in BLAST format.\n",
    "\n",
    "###### Usage:\n",
    "locAL.py <seq_filename> -m M -s S -d D [-a]\n",
    "\n",
    "- <seq_filename> the name or path of the file\n",
    "- m the score awarded if characters match\n",
    "- s the score taken if characters don't match\n",
    "- d the score taken if insertion or deletion is found.\n",
    "- a (optional) include if alignment sequences need to be output.\n",
    "\n",
    "###### Output:\n",
    "Prints to console a 2 line message with the highest score of the alignment, followed by the length of the alignment. If '-a' flag is added, will print 3 additional lines, the two sequences and the alignment in the middle, in BLAST format.\n",
    "\n",
    "###### IMPORTANT NOTES REGARDING OUTPUT\n",
    "It is highly recommended to redirect outputs to a file using the following syntax:\n",
    "\n",
    "locAL.py <seq_filename> -m M -s S -d D [-a] > <outfile_name>\n",
    "\n",
    "The output may be lengthy, and will produce a lot of text. \n",
    "\n",
    "\n",
    "\n",
    "\n",
    "\n",
    "### randomDNA.py\n",
    "###### Purpose:\n",
    "Takes two numerical parameters, length and count, and produces a file 'sequences.dat' that contains 'count' number of sequences, each 'length' characters long. The sequences are DNA only. In addition, it outputs to the console a small summary with information regarding the frequency of each character in the sequences produced.\n",
    "\n",
    "###### Usage\n",
    "randomDNA.py \\<count> \\<length>\n",
    "\n",
    "- \\<count> the number of sequences needed to be produced\n",
    "- \\<length> the length of each sequence in characters\n",
    "\n",
    "###### Output:\n",
    "Writes to a file 'sequences.dat' the list of all sequences separated by a newline. Then, prints to console a summary.\n",
    "\n",
    "\n",
    "###### IMPORTANT NOTES REGARDING OUTPUT\n",
    "It is highly recommended to redirect console output to a file using the following syntax:\n",
    "\n",
    "randomDNA.py \\<count> \\<length> > sequences.sum\n",
    "\n",
    "\n",
    "\n",
    "\n"
   ]
  },
  {
   "cell_type": "code",
   "execution_count": null,
   "id": "b622c521",
   "metadata": {},
   "outputs": [],
   "source": []
  },
  {
   "cell_type": "code",
   "execution_count": null,
   "id": "346b8e36",
   "metadata": {},
   "outputs": [],
   "source": []
  }
 ],
 "metadata": {
  "kernelspec": {
   "display_name": "Python 3",
   "language": "python",
   "name": "python3"
  },
  "language_info": {
   "codemirror_mode": {
    "name": "ipython",
    "version": 3
   },
   "file_extension": ".py",
   "mimetype": "text/x-python",
   "name": "python",
   "nbconvert_exporter": "python",
   "pygments_lexer": "ipython3",
   "version": "3.6.9"
  }
 },
 "nbformat": 4,
 "nbformat_minor": 5
}
