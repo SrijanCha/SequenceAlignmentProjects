{
 "cells": [
  {
   "cell_type": "code",
   "execution_count": 12,
   "id": "46dc38b8",
   "metadata": {},
   "outputs": [],
   "source": [
    "import matplotlib.pyplot as plt\n",
    "import numpy as np\n",
    "from matplotlib import colors\n",
    "from matplotlib.ticker import PercentFormatter\n",
    "\n",
    "# https://matplotlib.org/3.5.0/gallery/statistics/hist.html"
   ]
  },
  {
   "cell_type": "code",
   "execution_count": 17,
   "id": "29c8e546",
   "metadata": {},
   "outputs": [],
   "source": [
    "P1 = []\n",
    "P2 = []\n",
    "\n",
    "infile = open(\"q2_alignOut_P1.txt\", 'r')\n",
    "line = infile.readline()\n",
    "ine = infile.readline()\n",
    "\n",
    "while line:\n",
    "    x = line.split()\n",
    "    P1.append(int(x[1]))\n",
    "    line = infile.readline()\n",
    "    line = infile.readline()\n",
    "    ine = infile.readline()\n",
    "    \n",
    "    \n",
    "infile.close()\n",
    "\n",
    "\n",
    "\n",
    "\n",
    "infile = open(\"q2_alignOut_P2.txt\", 'r')\n",
    "line = infile.readline()\n",
    "ine = infile.readline()\n",
    "\n",
    "while line:\n",
    "    x = line.split()\n",
    "    P2.append(int(x[1]))\n",
    "    line = infile.readline()\n",
    "    line = infile.readline()\n",
    "    ine = infile.readline()\n",
    "    \n",
    "    \n",
    "infile.close()"
   ]
  },
  {
   "cell_type": "code",
   "execution_count": 19,
   "id": "6a58a4c7",
   "metadata": {},
   "outputs": [
    {
     "data": {
      "text/plain": [
       "(array([ 36.,   0.,   0., 222.,   0.,   0., 167.,   0.,   0.,  59.,   0.,\n",
       "          0.,  15.,   0.,   1.]),\n",
       " array([ 8.        ,  8.33333333,  8.66666667,  9.        ,  9.33333333,\n",
       "         9.66666667, 10.        , 10.33333333, 10.66666667, 11.        ,\n",
       "        11.33333333, 11.66666667, 12.        , 12.33333333, 12.66666667,\n",
       "        13.        ]),\n",
       " <BarContainer object of 15 artists>)"
      ]
     },
     "execution_count": 19,
     "metadata": {},
     "output_type": "execute_result"
    },
    {
     "data": {
      "image/png": "[encoded data removed]",
      "text/plain": [
       "<Figure size 432x288 with 2 Axes>"
      ]
     },
     "metadata": {
      "needs_background": "light"
     },
     "output_type": "display_data"
    }
   ],
   "source": [
    "fig, axs = plt.subplots(1, 2, sharey=True, tight_layout=True)\n",
    "n_bins = 15\n",
    "axs[0].hist(P1, bins=n_bins)\n",
    "axs[1].hist(P2, bins=n_bins)"
   ]
  },
  {
   "cell_type": "code",
   "execution_count": null,
   "id": "baf7183d",
   "metadata": {},
   "outputs": [],
   "source": []
  }
 ],
 "metadata": {
  "kernelspec": {
   "display_name": "Python 3",
   "language": "python",
   "name": "python3"
  },
  "language_info": {
   "codemirror_mode": {
    "name": "ipython",
    "version": 3
   },
   "file_extension": ".py",
   "mimetype": "text/x-python",
   "name": "python",
   "nbconvert_exporter": "python",
   "pygments_lexer": "ipython3",
   "version": "3.6.9"
  }
 },
 "nbformat": 4,
 "nbformat_minor": 5
}
