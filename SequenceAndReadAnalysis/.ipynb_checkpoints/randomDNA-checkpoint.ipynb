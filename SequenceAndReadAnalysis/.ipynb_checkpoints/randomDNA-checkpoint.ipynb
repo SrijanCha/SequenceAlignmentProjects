{
 "cells": [
  {
   "cell_type": "code",
   "execution_count": 1,
   "id": "1b734068",
   "metadata": {},
   "outputs": [],
   "source": [
    "import numpy as np\n",
    "import argparse"
   ]
  },
  {
   "cell_type": "code",
   "execution_count": 4,
   "id": "702a6871",
   "metadata": {},
   "outputs": [],
   "source": [
    "def generateRandomSeq(length):\n",
    "    nums = np.random.randint(0, 4, length)\n",
    "    seq = ''\n",
    "    \n",
    "    count1 = 0\n",
    "    count2 = 0\n",
    "    count3 = 0\n",
    "    count4 = 0\n",
    "    \n",
    "    \n",
    "    for num in nums:\n",
    "        if(num == 0):\n",
    "            seq += 'A'\n",
    "            count1 += 1\n",
    "        elif(num == 1):\n",
    "            seq += 'C'\n",
    "            count2 += 1\n",
    "        elif(num == 2):\n",
    "            seq += 'G'\n",
    "            count3 += 1\n",
    "        elif(num == 3):\n",
    "            seq += 'T'\n",
    "            count4 += 1\n",
    "            \n",
    "    return [seq, count1, count2, count3, count4]"
   ]
  },
  {
   "cell_type": "code",
   "execution_count": 3,
   "id": "f1ec9f16",
   "metadata": {},
   "outputs": [],
   "source": [
    "def main():\n",
    "    parser = argparse.ArgumentParser()\n",
    "    parser.add_argument('count', type=int)\n",
    "    parser.add_argument('length', type=int)\n",
    "    \n",
    "    args = parser.parse_args()\n",
    "    \n",
    "    c1 = 0\n",
    "    c2 = 0\n",
    "    c3 = 0\n",
    "    c4 = 0\n",
    "    outfile = open(\"sequences.dat\", 'w')\n",
    "    for i in range (args.count):\n",
    "        seqInfo = generateRandomSeq(args.length)\n",
    "        \n",
    "        seq = seqInfo[0]\n",
    "        c1 += seqInfo[1]\n",
    "        c2 += seqInfo[2]\n",
    "        c3 += seqInfo[3]\n",
    "        c4 += seqInfo[4]\n",
    "        \n",
    "        outfile.write(seq + '\\n')\n",
    "    \n",
    "    total = c1+c2+c3+c4\n",
    "    p1 = c1*100/total\n",
    "    p2 = c2*100/total\n",
    "    p3 = c3*100/total\n",
    "    p4 = c4*100/total\n",
    "    \n",
    "    \n",
    "    \n",
    "    print('\\nSUMMARY\\n___________________________\\n')\n",
    "    print('Total Nucleotides:', str(total), '\\n')\n",
    "    print('Observed Number of As:', str(c1), '(', str(p1), '%)')\n",
    "    print('Observed Number of Cs:', str(c2), '(', str(p2), '%)')\n",
    "    print('Observed Number of Gs:', str(c3), '(', str(p3), '%)')\n",
    "    print('Observed Number of Ts:', str(c4), '(', str(p4), '%)\\n')\n",
    "        \n",
    "        \n",
    "        \n",
    "        \n",
    "    \n",
    "        \n",
    "    outfile.close()"
   ]
  },
  {
   "cell_type": "code",
   "execution_count": null,
   "id": "75629901",
   "metadata": {},
   "outputs": [],
   "source": [
    "main()"
   ]
  }
 ],
 "metadata": {
  "kernelspec": {
   "display_name": "Python 3",
   "language": "python",
   "name": "python3"
  },
  "language_info": {
   "codemirror_mode": {
    "name": "ipython",
    "version": 3
   },
   "file_extension": ".py",
   "mimetype": "text/x-python",
   "name": "python",
   "nbconvert_exporter": "python",
   "pygments_lexer": "ipython3",
   "version": "3.6.9"
  }
 },
 "nbformat": 4,
 "nbformat_minor": 5
}
